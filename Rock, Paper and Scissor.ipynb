{
 "cells": [
  {
   "cell_type": "code",
   "execution_count": 16,
   "id": "847d0d2a",
   "metadata": {},
   "outputs": [
    {
     "name": "stdout",
     "output_type": "stream",
     "text": [
      "0 for Rock,1 for Paper and 2 for Scissor:\n",
      " 0\n",
      "You: 0\n",
      "Computer: 2\n",
      "You Won\n"
     ]
    }
   ],
   "source": [
    "import random\n",
    "comp = random.randint(0,2)\n",
    "user = int(input(\"0 for Rock,1 for Paper and 2 for Scissor:\\n \"))\n",
    "def check (comp,user):\n",
    "    if comp == user:\n",
    "        return 0\n",
    "    if (comp == 1 and user == 0):\n",
    "        return -1\n",
    "    if (comp == 2 and user == 1):\n",
    "        return -1\n",
    "    if (comp == 0 and user == 2):\n",
    "        return -1\n",
    "    return 1\n",
    "Score = check(comp,user)\n",
    "print(\"You:\",user)\n",
    "print(\"Computer:\",comp)\n",
    "\n",
    "if(Score == 0):\n",
    "    print(\"Its a Draw\")\n",
    "elif (Score == -1):\n",
    "    print(\"You Lose\")\n",
    "else:\n",
    "    print(\"You Won\")"
   ]
  }
 ],
 "metadata": {
  "kernelspec": {
   "display_name": "Python 3 (ipykernel)",
   "language": "python",
   "name": "python3"
  },
  "language_info": {
   "codemirror_mode": {
    "name": "ipython",
    "version": 3
   },
   "file_extension": ".py",
   "mimetype": "text/x-python",
   "name": "python",
   "nbconvert_exporter": "python",
   "pygments_lexer": "ipython3",
   "version": "3.9.13"
  }
 },
 "nbformat": 4,
 "nbformat_minor": 5
}
